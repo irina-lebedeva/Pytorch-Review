{
  "nbformat": 4,
  "nbformat_minor": 0,
  "metadata": {
    "colab": {
      "name": "Pytorch_Review2",
      "provenance": [],
      "authorship_tag": "ABX9TyP1Q3WPHCCEIbMZQ3pqDSjo",
      "include_colab_link": true
    },
    "kernelspec": {
      "name": "python3",
      "display_name": "Python 3"
    },
    "language_info": {
      "name": "python"
    }
  },
  "cells": [
    {
      "cell_type": "markdown",
      "metadata": {
        "id": "view-in-github",
        "colab_type": "text"
      },
      "source": [
        "<a href=\"https://colab.research.google.com/github/irina-lebedeva/Pytorch-Review/blob/main/Pytorch_Review2.ipynb\" target=\"_parent\"><img src=\"https://colab.research.google.com/assets/colab-badge.svg\" alt=\"Open In Colab\"/></a>"
      ]
    },
    {
      "cell_type": "markdown",
      "metadata": {
        "id": "dSEj3_OjV26A"
      },
      "source": [
        "# tensor and its operations"
      ]
    },
    {
      "cell_type": "code",
      "metadata": {
        "colab": {
          "base_uri": "https://localhost:8080/"
        },
        "id": "3HF9NI3Q0bGU",
        "outputId": "41333d16-dc0a-4da7-8ea3-b802bc8b6c53"
      },
      "source": [
        "import torch\n",
        "a = torch.FloatTensor(2,4)\n",
        "a"
      ],
      "execution_count": null,
      "outputs": [
        {
          "output_type": "execute_result",
          "data": {
            "text/plain": [
              "tensor([[2.3469e-23, 3.0862e-41, 3.3631e-44, 0.0000e+00],\n",
              "        [       nan, 0.0000e+00, 4.4721e+21, 1.5956e+25]])"
            ]
          },
          "metadata": {},
          "execution_count": 75
        }
      ]
    },
    {
      "cell_type": "code",
      "metadata": {
        "colab": {
          "base_uri": "https://localhost:8080/"
        },
        "id": "27DH2H5O7bqZ",
        "outputId": "4af7b638-0aea-4826-9ed7-60d834a181f9"
      },
      "source": [
        "type(a), a.shape"
      ],
      "execution_count": null,
      "outputs": [
        {
          "output_type": "execute_result",
          "data": {
            "text/plain": [
              "(torch.Tensor, torch.Size([2, 4]))"
            ]
          },
          "metadata": {},
          "execution_count": 76
        }
      ]
    },
    {
      "cell_type": "code",
      "metadata": {
        "colab": {
          "base_uri": "https://localhost:8080/"
        },
        "id": "8r1bWbCa7tfo",
        "outputId": "ce0c5081-37ea-4ba5-e5f6-d729d7ee0b9f"
      },
      "source": [
        "b = torch.IntTensor(4,5,1).zero_()\n",
        "b"
      ],
      "execution_count": null,
      "outputs": [
        {
          "output_type": "execute_result",
          "data": {
            "text/plain": [
              "tensor([[[0],\n",
              "         [0],\n",
              "         [0],\n",
              "         [0],\n",
              "         [0]],\n",
              "\n",
              "        [[0],\n",
              "         [0],\n",
              "         [0],\n",
              "         [0],\n",
              "         [0]],\n",
              "\n",
              "        [[0],\n",
              "         [0],\n",
              "         [0],\n",
              "         [0],\n",
              "         [0]],\n",
              "\n",
              "        [[0],\n",
              "         [0],\n",
              "         [0],\n",
              "         [0],\n",
              "         [0]]], dtype=torch.int32)"
            ]
          },
          "metadata": {},
          "execution_count": 77
        }
      ]
    },
    {
      "cell_type": "code",
      "metadata": {
        "colab": {
          "base_uri": "https://localhost:8080/"
        },
        "id": "fHOTCqVo79MF",
        "outputId": "c2c6b0ba-7265-419c-f8bd-97187c6f92e3"
      },
      "source": [
        "b.reshape(4,1,5)"
      ],
      "execution_count": null,
      "outputs": [
        {
          "output_type": "execute_result",
          "data": {
            "text/plain": [
              "tensor([[[0, 0, 0, 0, 0]],\n",
              "\n",
              "        [[0, 0, 0, 0, 0]],\n",
              "\n",
              "        [[0, 0, 0, 0, 0]],\n",
              "\n",
              "        [[0, 0, 0, 0, 0]]], dtype=torch.int32)"
            ]
          },
          "metadata": {},
          "execution_count": 78
        }
      ]
    },
    {
      "cell_type": "code",
      "metadata": {
        "colab": {
          "base_uri": "https://localhost:8080/"
        },
        "id": "NteCjWG6ATa-",
        "outputId": "cd19a616-b716-4795-8776-edf054a6654b"
      },
      "source": [
        "b.type_as(torch.BoolTensor())\n",
        "b.shape"
      ],
      "execution_count": null,
      "outputs": [
        {
          "output_type": "execute_result",
          "data": {
            "text/plain": [
              "torch.Size([4, 5, 1])"
            ]
          },
          "metadata": {},
          "execution_count": 79
        }
      ]
    },
    {
      "cell_type": "code",
      "metadata": {
        "colab": {
          "base_uri": "https://localhost:8080/"
        },
        "id": "ZsS1_b7oA3pD",
        "outputId": "59177012-17e2-4d54-bcf2-7719a81f45a5"
      },
      "source": [
        "c = b.reshape(-1,2)\n",
        "c.shape"
      ],
      "execution_count": null,
      "outputs": [
        {
          "output_type": "execute_result",
          "data": {
            "text/plain": [
              "torch.Size([10, 2])"
            ]
          },
          "metadata": {},
          "execution_count": 80
        }
      ]
    },
    {
      "cell_type": "code",
      "metadata": {
        "colab": {
          "base_uri": "https://localhost:8080/"
        },
        "id": "maYIDiuKCM95",
        "outputId": "ee7f0eac-c93d-44f4-9d78-ef4ca6e807d3"
      },
      "source": [
        "c[0:2,0:2]"
      ],
      "execution_count": null,
      "outputs": [
        {
          "output_type": "execute_result",
          "data": {
            "text/plain": [
              "tensor([[0, 0],\n",
              "        [0, 0]], dtype=torch.int32)"
            ]
          },
          "metadata": {},
          "execution_count": 81
        }
      ]
    },
    {
      "cell_type": "code",
      "metadata": {
        "colab": {
          "base_uri": "https://localhost:8080/"
        },
        "id": "eifPCOaUDD-8",
        "outputId": "82762cbe-4d5b-42b6-c221-8b9235beabc8"
      },
      "source": [
        "a = torch.FloatTensor(range(12)).view (3,4)\n",
        "b = torch.randn(12)\n",
        "print('tensor a \\n {}\\n  tensor b \\n {}'.format(a,b))"
      ],
      "execution_count": null,
      "outputs": [
        {
          "output_type": "stream",
          "name": "stdout",
          "text": [
            "tensor a \n",
            " tensor([[ 0.,  1.,  2.,  3.],\n",
            "        [ 4.,  5.,  6.,  7.],\n",
            "        [ 8.,  9., 10., 11.]])\n",
            "  tensor b \n",
            " tensor([ 2.2288,  1.1681, -0.0852, -0.5519, -1.2193, -1.0375, -1.3834, -0.0941,\n",
            "        -0.5932,  0.5939, -0.5963, -1.2112])\n"
          ]
        }
      ]
    },
    {
      "cell_type": "code",
      "metadata": {
        "colab": {
          "base_uri": "https://localhost:8080/"
        },
        "id": "DkJlrJrWDxV4",
        "outputId": "75483c48-cf7b-4793-903f-360dc3681411"
      },
      "source": [
        "c = a.reshape(2,2,3)\n",
        "c"
      ],
      "execution_count": null,
      "outputs": [
        {
          "output_type": "execute_result",
          "data": {
            "text/plain": [
              "tensor([[[ 0.,  1.,  2.],\n",
              "         [ 3.,  4.,  5.]],\n",
              "\n",
              "        [[ 6.,  7.,  8.],\n",
              "         [ 9., 10., 11.]]])"
            ]
          },
          "metadata": {},
          "execution_count": 83
        }
      ]
    },
    {
      "cell_type": "code",
      "metadata": {
        "colab": {
          "base_uri": "https://localhost:8080/"
        },
        "id": "E_umM0p0EGri",
        "outputId": "07b67ded-086e-4d1d-c9fc-bb12269d178b"
      },
      "source": [
        "a[:,0]"
      ],
      "execution_count": null,
      "outputs": [
        {
          "output_type": "execute_result",
          "data": {
            "text/plain": [
              "tensor([0., 4., 8.])"
            ]
          },
          "metadata": {},
          "execution_count": 84
        }
      ]
    },
    {
      "cell_type": "code",
      "metadata": {
        "id": "bkwI3cIdIJtr"
      },
      "source": [
        "a = torch.FloatTensor(5,2)\n",
        "b = torch.FloatTensor(1,10)\n",
        "c = b.reshape(5,2)"
      ],
      "execution_count": null,
      "outputs": []
    },
    {
      "cell_type": "code",
      "metadata": {
        "colab": {
          "base_uri": "https://localhost:8080/"
        },
        "id": "10ti7GsWJUbH",
        "outputId": "4cecb074-f378-4b5c-cc48-7e81b474b31f"
      },
      "source": [
        "a.add(c), a.sub(c), a.div(c), a == c, a < c "
      ],
      "execution_count": null,
      "outputs": [
        {
          "output_type": "execute_result",
          "data": {
            "text/plain": [
              "(tensor([[4.6938e-23, 6.1724e-41],\n",
              "         [4.3440e-44, 0.0000e+00],\n",
              "         [       nan, 0.0000e+00],\n",
              "         [4.4721e+21, 2.8799e+32],\n",
              "         [1.3816e+31, 1.9203e+31]]), tensor([[ 5.0487e-28,  0.0000e+00],\n",
              "         [-4.0638e-44,  0.0000e+00],\n",
              "         [        nan,  0.0000e+00],\n",
              "         [-4.4721e+21, -2.8799e+32],\n",
              "         [-1.3816e+31, -1.9203e+31]]), tensor([[1.0000e+00, 1.0000e+00],\n",
              "         [3.3333e-02,        nan],\n",
              "         [       nan,        nan],\n",
              "         [3.0933e-22, 3.2681e-34],\n",
              "         [4.2934e-32, 3.0927e-32]]), tensor([[False,  True],\n",
              "         [False,  True],\n",
              "         [False,  True],\n",
              "         [False, False],\n",
              "         [False, False]]), tensor([[False, False],\n",
              "         [ True, False],\n",
              "         [False, False],\n",
              "         [ True,  True],\n",
              "         [ True,  True]]))"
            ]
          },
          "metadata": {},
          "execution_count": 86
        }
      ]
    },
    {
      "cell_type": "code",
      "metadata": {
        "colab": {
          "base_uri": "https://localhost:8080/"
        },
        "id": "tAVTAaM5KMfD",
        "outputId": "50499994-61b0-49f0-9e5f-08d922a2171f"
      },
      "source": [
        "a[a==c]"
      ],
      "execution_count": null,
      "outputs": [
        {
          "output_type": "execute_result",
          "data": {
            "text/plain": [
              "tensor([3.0862e-41, 0.0000e+00, 0.0000e+00])"
            ]
          },
          "metadata": {},
          "execution_count": 87
        }
      ]
    },
    {
      "cell_type": "code",
      "metadata": {
        "colab": {
          "base_uri": "https://localhost:8080/"
        },
        "id": "res0qxVzNaJK",
        "outputId": "0a5bf392-5347-4ae9-98eb-b27aecb2ae4f"
      },
      "source": [
        "import matplotlib.pyplot as plt\n",
        " \n",
        "pics = torch.FloatTensor(100, 780, 780, 3)\n",
        "\n",
        "pics.mean(dim=3).shape\n"
      ],
      "execution_count": null,
      "outputs": [
        {
          "output_type": "execute_result",
          "data": {
            "text/plain": [
              "torch.Size([100, 780, 780])"
            ]
          },
          "metadata": {},
          "execution_count": 88
        }
      ]
    },
    {
      "cell_type": "code",
      "metadata": {
        "colab": {
          "base_uri": "https://localhost:8080/",
          "height": 287
        },
        "id": "ZbEMrQIgQQDv",
        "outputId": "f47b6601-f748-4fa8-decb-7dfb852cb051"
      },
      "source": [
        "plt.imshow(pics[0,:,:,0])"
      ],
      "execution_count": null,
      "outputs": [
        {
          "output_type": "execute_result",
          "data": {
            "text/plain": [
              "<matplotlib.image.AxesImage at 0x7f82ab27a110>"
            ]
          },
          "metadata": {},
          "execution_count": 89
        },
        {
          "output_type": "display_data",
          "data": {
            "image/png": "[encoded data removed]",
            "text/plain": [
              "<Figure size 432x288 with 1 Axes>"
            ]
          },
          "metadata": {
            "needs_background": "light"
          }
        }
      ]
    },
    {
      "cell_type": "code",
      "metadata": {
        "colab": {
          "base_uri": "https://localhost:8080/"
        },
        "id": "PLI9nPVVRTYC",
        "outputId": "948939db-ea3a-4d9b-d575-e5f83ae73c4d"
      },
      "source": [
        "a = torch.FloatTensor(5,2)\n",
        "b = torch.FloatTensor(2,10)\n",
        "z = torch.matmul(a,b)\n",
        "z.t()"
      ],
      "execution_count": null,
      "outputs": [
        {
          "output_type": "execute_result",
          "data": {
            "text/plain": [
              "tensor([[3.3323e-42, 0.0000e+00,        nan, 4.9892e-01, 3.4833e+04],\n",
              "        [0.0000e+00, 0.0000e+00,        nan, 1.1438e-18, 2.0381e-08],\n",
              "        [0.0000e+00, 0.0000e+00,        nan, 1.2303e-18, 2.2079e-08],\n",
              "        [0.0000e+00, 0.0000e+00,        nan, 1.3722e-18, 2.4626e-08],\n",
              "        [0.0000e+00, 0.0000e+00,        nan, 1.1593e-18, 2.0805e-08],\n",
              "        [0.0000e+00, 0.0000e+00,        nan, 1.1593e-18, 2.0805e-08],\n",
              "        [0.0000e+00, 0.0000e+00,        nan, 1.3722e-18, 2.4626e-08],\n",
              "        [0.0000e+00, 0.0000e+00,        nan, 1.2303e-18, 2.2079e-08],\n",
              "        [0.0000e+00, 0.0000e+00,        nan, 1.3013e-18, 2.3353e-08],\n",
              "        [0.0000e+00, 0.0000e+00,        nan, 1.0883e-18, 1.9531e-08]])"
            ]
          },
          "metadata": {},
          "execution_count": 90
        }
      ]
    },
    {
      "cell_type": "code",
      "metadata": {
        "id": "wv7Or2cGSiSq"
      },
      "source": [
        "a = torch.IntTensor(range(12)).view(3,4)\n",
        "b = torch.IntTensor(range(20)).view(4,5)"
      ],
      "execution_count": null,
      "outputs": []
    },
    {
      "cell_type": "code",
      "metadata": {
        "colab": {
          "base_uri": "https://localhost:8080/"
        },
        "id": "yQY7sX0YT2bz",
        "outputId": "b8f52805-ccdd-4a62-c466-f593bb3ba75a"
      },
      "source": [
        "c = torch.mm(a,b)\n",
        "c.shape"
      ],
      "execution_count": null,
      "outputs": [
        {
          "output_type": "execute_result",
          "data": {
            "text/plain": [
              "torch.Size([3, 5])"
            ]
          },
          "metadata": {},
          "execution_count": 92
        }
      ]
    },
    {
      "cell_type": "markdown",
      "metadata": {
        "id": "bZq7gf8RWIIh"
      },
      "source": [
        "# neuron calcualtion"
      ]
    },
    {
      "cell_type": "code",
      "metadata": {
        "id": "Gqh5JgMrWywC"
      },
      "source": [
        "def forward_pass(x,w):\n",
        "  result  = x.mm(w)\n",
        "  result = torch.sigmoid(result)\n",
        "  return result"
      ],
      "execution_count": null,
      "outputs": []
    },
    {
      "cell_type": "code",
      "metadata": {
        "colab": {
          "base_uri": "https://localhost:8080/"
        },
        "id": "jEgMNd1cWPc0",
        "outputId": "cb28daaa-ebe4-403a-f303-7d2570bb696b"
      },
      "source": [
        "x = torch.FloatTensor([[-5,5], [2,3], [1,-1]])\n",
        "w = torch.FloatTensor([[-0.5], [2.5]])\n",
        "forward_pass(x,w)"
      ],
      "execution_count": null,
      "outputs": [
        {
          "output_type": "stream",
          "name": "stdout",
          "text": [
            "torch.Size([3, 2])\n",
            "torch.Size([2, 1])\n"
          ]
        },
        {
          "output_type": "execute_result",
          "data": {
            "text/plain": [
              "tensor([[1.0000],\n",
              "        [0.9985],\n",
              "        [0.0474]])"
            ]
          },
          "metadata": {},
          "execution_count": 105
        }
      ]
    }
  ]
}